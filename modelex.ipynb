{
 "cells": [
  {
   "cell_type": "code",
   "execution_count": 1,
   "metadata": {},
   "outputs": [
    {
     "name": "stderr",
     "output_type": "stream",
     "text": [
      "Using TensorFlow backend.\n"
     ]
    }
   ],
   "source": [
    "import pipeline\n",
    "\n",
    "%matplotlib inline\n",
    "import matplotlib.pyplot as plt\n",
    "\n",
    "import tensorflow as tf\n",
    "from tensorflow.keras.callbacks import ModelCheckpoint\n",
    "import numpy as np\n",
    "import pickle\n",
    "\n",
    "import PIL.Image\n",
    "from IPython.display import display\n",
    "import time\n",
    "from datetime import timedelta\n",
    "from sklearn.model_selection import train_test_split\n",
    "from keras.applications.xception import Xception\n",
    "from keras.applications.xception import preprocess_input\n",
    "from keras.models import model_from_json\n",
    "from keras import regularizers\n",
    "from tensorflow.keras import optimizers\n",
    "from sklearn.preprocessing import OneHotEncoder"
   ]
  },
  {
   "cell_type": "code",
   "execution_count": 2,
   "metadata": {},
   "outputs": [
    {
     "ename": "MemoryError",
     "evalue": "",
     "output_type": "error",
     "traceback": [
      "\u001b[0;31m---------------------------------------------------------------------------\u001b[0m",
      "\u001b[0;31mMemoryError\u001b[0m                               Traceback (most recent call last)",
      "\u001b[0;32m<ipython-input-2-892b5be8e488>\u001b[0m in \u001b[0;36m<module>\u001b[0;34m\u001b[0m\n\u001b[1;32m      5\u001b[0m \u001b[0;31m# Creates a pickle and returns the names of the species\u001b[0m\u001b[0;34m\u001b[0m\u001b[0;34m\u001b[0m\u001b[0;34m\u001b[0m\u001b[0m\n\u001b[1;32m      6\u001b[0m image_labels = pipeline.make_image_label_pickle(directory, num_species, nwidth=image_resize, \n\u001b[0;32m----> 7\u001b[0;31m                                                 nheight=image_resize)\n\u001b[0m",
      "\u001b[0;32m~/Desktop/BirdPi/pipeline.py\u001b[0m in \u001b[0;36mmake_image_label_pickle\u001b[0;34m(directory, num_species, nwidth, nheight)\u001b[0m\n\u001b[1;32m     53\u001b[0m     \u001b[0;31m# Start the pickling process\u001b[0m\u001b[0;34m\u001b[0m\u001b[0;34m\u001b[0m\u001b[0;34m\u001b[0m\u001b[0m\n\u001b[1;32m     54\u001b[0m     \u001b[0ms\u001b[0m \u001b[0;34m=\u001b[0m \u001b[0;34m(\u001b[0m\u001b[0mlen\u001b[0m\u001b[0;34m(\u001b[0m\u001b[0mtrain_images\u001b[0m\u001b[0;34m)\u001b[0m\u001b[0;34m,\u001b[0m \u001b[0mnwidth\u001b[0m\u001b[0;34m,\u001b[0m \u001b[0mnheight\u001b[0m\u001b[0;34m,\u001b[0m \u001b[0;36m3\u001b[0m\u001b[0;34m)\u001b[0m\u001b[0;34m\u001b[0m\u001b[0;34m\u001b[0m\u001b[0m\n\u001b[0;32m---> 55\u001b[0;31m     \u001b[0mallImage_train\u001b[0m \u001b[0;34m=\u001b[0m \u001b[0mnp\u001b[0m\u001b[0;34m.\u001b[0m\u001b[0mzeros\u001b[0m\u001b[0;34m(\u001b[0m\u001b[0ms\u001b[0m\u001b[0;34m)\u001b[0m\u001b[0;34m\u001b[0m\u001b[0;34m\u001b[0m\u001b[0m\n\u001b[0m\u001b[1;32m     56\u001b[0m     \u001b[0mallImage_test\u001b[0m \u001b[0;34m=\u001b[0m \u001b[0mnp\u001b[0m\u001b[0;34m.\u001b[0m\u001b[0mzeros\u001b[0m\u001b[0;34m(\u001b[0m\u001b[0ms\u001b[0m\u001b[0;34m)\u001b[0m\u001b[0;34m\u001b[0m\u001b[0;34m\u001b[0m\u001b[0m\n\u001b[1;32m     57\u001b[0m     \u001b[0mi\u001b[0m \u001b[0;34m=\u001b[0m \u001b[0;36m0\u001b[0m\u001b[0;34m\u001b[0m\u001b[0;34m\u001b[0m\u001b[0m\n",
      "\u001b[0;31mMemoryError\u001b[0m: "
     ]
    }
   ],
   "source": [
    "directory = '/home/devon/Desktop/BirdPi/images/'\n",
    "num_species = 17 \n",
    "image_resize = 299\n",
    "\n",
    "# Creates a pickle and returns the names of the species\n",
    "image_labels = pipeline.make_image_label_pickle(directory, num_species, nwidth=image_resize, \n",
    "                                                nheight=image_resize)"
   ]
  },
  {
   "cell_type": "code",
   "execution_count": null,
   "metadata": {},
   "outputs": [],
   "source": [
    "images = pickle.load(open(\"images.p\", \"rb\"))\n",
    "rand_bird = np.random.randint(low=0, high=len(images))\n",
    "plt.imshow(images[rand_bird,:,:,:]) # Fun visualization showing how each bird image looks to the model at the start\n",
    "plt.show()\n",
    "print(\"There are {} species in this dataset.\".format(num_species))\n",
    "print(\"There are {} individual images in the dataset.\".format(len(images)))"
   ]
  },
  {
   "cell_type": "code",
   "execution_count": null,
   "metadata": {},
   "outputs": [],
   "source": [
    "num_validation = 0.10\n",
    "X_train, X_validation, y_train, y_validation = train_test_split(images, image_labels, \n",
    "                                                                test_size=num_validation, random_state=6)\n",
    "\n",
    "onehot_encoder = OneHotEncoder(sparse=False, categories='auto') # Creates a code/cypher for what species the bird is as a list of 1s and 0s\n",
    "y_train_temp = y_train.reshape(len(y_train), 1)                 \n",
    "y_train = onehot_encoder.fit_transform(y_train_temp)\n",
    "print(y_train[0])\n",
    "\n",
    "y_validation_temp = y_validation.reshape(len(y_validation), 1)\n",
    "y_validation = onehot_encoder.fit_transform(y_validation_temp)\n",
    "print(y_validation[0])"
   ]
  },
  {
   "cell_type": "code",
   "execution_count": null,
   "metadata": {},
   "outputs": [],
   "source": [
    "img_shape = (image_resize, image_resize, 3)\n",
    "# Load the unedited model\n",
    "base_model = tf.keras.applications.Xception(\n",
    "    input_shape=img_shape,\n",
    "    include_top=False)"
   ]
  },
  {
   "cell_type": "code",
   "execution_count": null,
   "metadata": {},
   "outputs": [],
   "source": [
    "# Freeze the pre-trained model weights\n",
    "base_model.trainable = False\n",
    "# Trainable classification head\n",
    "maxpool_layer = tf.keras.layers.GlobalMaxPooling2D(input_shape=base_model.output_shape[1:])\n",
    "prediction_layer = tf.keras.layers.Dense(17, activation='softmax')\n",
    "dropout = tf.keras.layers.Dropout(0.2)\n",
    "dense512 = tf.keras.layers.Dense(512, activation='relu', kernel_regularizer=regularizers.l2(0.01))\n",
    "dense256 = tf.keras.layers.Dense(256, activation='relu', kernel_regularizer=regularizers.l2(0.01))\n",
    "# Layer classification head with feature detector\n",
    "model = tf.keras.Sequential([base_model,\n",
    "                             maxpool_layer,\n",
    "                             dense512,\n",
    "                             dropout,\n",
    "                             dense256,\n",
    "                             dropout,\n",
    "                             prediction_layer])\n",
    "learning_rate = 0.0001\n",
    "# Compile the model\n",
    "model.compile(optimizer=tf.keras.optimizers.Adam(lr=learning_rate), \n",
    "              loss='categorical_crossentropy',\n",
    "              metrics=['accuracy'])"
   ]
  },
  {
   "cell_type": "code",
   "execution_count": null,
   "metadata": {},
   "outputs": [],
   "source": [
    "print(\"Going birdwatching...\")\n",
    "checkpointer = ModelCheckpoint(filepath='weights.hdf5', verbose=1, save_best_only=True)\n",
    "model.fit(X_train, y_train, epochs=100, validation_data=(X_validation, y_validation),\n",
    "          batch_size=20, callbacks=[checkpointer])"
   ]
  },
  {
   "cell_type": "code",
   "execution_count": null,
   "metadata": {},
   "outputs": [],
   "source": [
    "# Save our finished model to a .json\n",
    "model_json = model.to_json()\n",
    "with open(\"model.json\", \"w\") as json_file:\n",
    "    json_file.write(model_json)\n",
    "model.save_weights(\"model.h5\")\n",
    "print(\"Saved model to EC2\")"
   ]
  },
  {
   "cell_type": "code",
   "execution_count": null,
   "metadata": {},
   "outputs": [],
   "source": [
    "model.save(\"model.h5\")"
   ]
  },
  {
   "cell_type": "code",
   "execution_count": null,
   "metadata": {},
   "outputs": [],
   "source": [
    "img_path = '/home/ubuntu/images/Rock_Pidgeon/c270436e-b9f8-11e9-b195-7b64bbd6a9bc.jpg'\n",
    "img = pp.image.load_img(path=img_path, target_size=(155, 155))\n",
    "x = pp.image.img_to_array(img)\n",
    "x = np.expand_dims(x, axis=0)\n",
    "x = app.xception.preprocess_input(x)\n",
    "\n",
    "preds = model.predict(x)\n",
    "print('Predicted:', app.xception.decode_predictions(preds))"
   ]
  },
  {
   "cell_type": "code",
   "execution_count": null,
   "metadata": {},
   "outputs": [],
   "source": []
  },
  {
   "cell_type": "code",
   "execution_count": null,
   "metadata": {},
   "outputs": [],
   "source": []
  }
 ],
 "metadata": {
  "kernelspec": {
   "display_name": "tf_gpu",
   "language": "python",
   "name": "tf_gpu"
  },
  "language_info": {
   "codemirror_mode": {
    "name": "ipython",
    "version": 3
   },
   "file_extension": ".py",
   "mimetype": "text/x-python",
   "name": "python",
   "nbconvert_exporter": "python",
   "pygments_lexer": "ipython3",
   "version": "3.7.3"
  }
 },
 "nbformat": 4,
 "nbformat_minor": 2
}
